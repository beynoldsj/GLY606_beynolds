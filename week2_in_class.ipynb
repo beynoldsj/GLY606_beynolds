{
 "cells": [
  {
   "cell_type": "code",
   "execution_count": 2,
   "metadata": {},
   "outputs": [
    {
     "name": "stdout",
     "output_type": "stream",
     "text": [
      "6\n",
      "6.0\n",
      "222\n",
      "23\n"
     ]
    }
   ],
   "source": [
    "print(2*3)\n",
    "print(2.0*3)\n",
    "print('2'*3)\n",
    "print('2'+'3')"
   ]
  },
  {
   "cell_type": "code",
   "execution_count": 1,
   "metadata": {},
   "outputs": [
    {
     "name": "stdout",
     "output_type": "stream",
     "text": [
      "[1, 2, 3, 1, 2, 3]\n",
      "[1 2 3 1 2 3]\n",
      "[1, 2, 3, 24, 25]\n"
     ]
    }
   ],
   "source": [
    "import numpy as np\n",
    "print([1,2,3]*2)\n",
    "print(np.array([1,2,3]*2))\n",
    "print([1,2,3] + [24,25])\n"
   ]
  },
  {
   "cell_type": "code",
   "execution_count": 2,
   "metadata": {},
   "outputs": [
    {
     "name": "stdout",
     "output_type": "stream",
     "text": [
      "does ben remember python 1.000000\n"
     ]
    }
   ],
   "source": [
    "print('does ben remember python %f' % 1.0)"
   ]
  },
  {
   "cell_type": "code",
   "execution_count": 3,
   "metadata": {},
   "outputs": [],
   "source": [
    "# asdfadsfasdfasdfasdfasdfasdfkl;asdjfa"
   ]
  },
  {
   "cell_type": "code",
   "execution_count": 5,
   "metadata": {},
   "outputs": [
    {
     "name": "stdout",
     "output_type": "stream",
     "text": [
      "855504.0\n",
      ":)\n"
     ]
    }
   ],
   "source": [
    "a_variable_with_a_useful_name = 2742.0 # idk what to say here the variables name is so useful\n",
    "another_variable = 312.0 # ibid\n",
    "\n",
    "print(a_variable_with_a_useful_name * another_variable) # ouptut the multiplcation results\n",
    "print(':)') # output art"
   ]
  },
  {
   "cell_type": "code",
   "execution_count": null,
   "metadata": {},
   "outputs": [],
   "source": []
  }
 ],
 "metadata": {
  "kernelspec": {
   "display_name": "Python 3 (ipykernel)",
   "language": "python",
   "name": "python3"
  },
  "language_info": {
   "codemirror_mode": {
    "name": "ipython",
    "version": 3
   },
   "file_extension": ".py",
   "mimetype": "text/x-python",
   "name": "python",
   "nbconvert_exporter": "python",
   "pygments_lexer": "ipython3",
   "version": "3.8.10"
  }
 },
 "nbformat": 4,
 "nbformat_minor": 4
}
