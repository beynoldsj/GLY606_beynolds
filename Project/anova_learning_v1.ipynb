{
 "cells": [
  {
   "cell_type": "code",
   "execution_count": 2,
   "metadata": {},
   "outputs": [],
   "source": [
    "import numpy as np\n",
    "import pandas as pd\n",
    "import matplotlib.pyplot as plt\n",
    "\n",
    "# working thru example from: https://courses.washington.edu/psy315/tutorials/two_factor_ANOVA.pdf#:~:text=A%20two%20factor%20ANOVA%20%28sometimes%20called%20%27two-way%27%20ANOVA%29,erent%20diets%20AND%20fordi%20erent%20levels%20of%20exercise."
   ]
  },
  {
   "cell_type": "code",
   "execution_count": 3,
   "metadata": {},
   "outputs": [],
   "source": [
    "noJ_noPB = np.array([1,7,9,4,5,6,2,5,1])\n",
    "noJ_yesPB = np.array([4,12,5,8,6,6,8,6,9])\n",
    "yesJ_noPB = np.array([6,6,2,8,6,6,2,5,9])\n",
    "yesJ_yesPB = np.array([8,5,5,6,9,11,7,9,7])"
   ]
  },
  {
   "cell_type": "code",
   "execution_count": 4,
   "metadata": {},
   "outputs": [
    {
     "data": {
      "text/html": [
       "<div>\n",
       "<style scoped>\n",
       "    .dataframe tbody tr th:only-of-type {\n",
       "        vertical-align: middle;\n",
       "    }\n",
       "\n",
       "    .dataframe tbody tr th {\n",
       "        vertical-align: top;\n",
       "    }\n",
       "\n",
       "    .dataframe thead th {\n",
       "        text-align: right;\n",
       "    }\n",
       "</style>\n",
       "<table border=\"1\" class=\"dataframe\">\n",
       "  <thead>\n",
       "    <tr style=\"text-align: right;\">\n",
       "      <th></th>\n",
       "      <th>noJ_noPB</th>\n",
       "      <th>noJ_yesPB</th>\n",
       "      <th>yesJ_noPB</th>\n",
       "      <th>yesJ_yesPB</th>\n",
       "    </tr>\n",
       "  </thead>\n",
       "  <tbody>\n",
       "    <tr>\n",
       "      <th>0</th>\n",
       "      <td>1</td>\n",
       "      <td>4</td>\n",
       "      <td>6</td>\n",
       "      <td>8</td>\n",
       "    </tr>\n",
       "    <tr>\n",
       "      <th>1</th>\n",
       "      <td>7</td>\n",
       "      <td>12</td>\n",
       "      <td>6</td>\n",
       "      <td>5</td>\n",
       "    </tr>\n",
       "    <tr>\n",
       "      <th>2</th>\n",
       "      <td>9</td>\n",
       "      <td>5</td>\n",
       "      <td>2</td>\n",
       "      <td>5</td>\n",
       "    </tr>\n",
       "    <tr>\n",
       "      <th>3</th>\n",
       "      <td>4</td>\n",
       "      <td>8</td>\n",
       "      <td>8</td>\n",
       "      <td>6</td>\n",
       "    </tr>\n",
       "    <tr>\n",
       "      <th>4</th>\n",
       "      <td>5</td>\n",
       "      <td>6</td>\n",
       "      <td>6</td>\n",
       "      <td>9</td>\n",
       "    </tr>\n",
       "    <tr>\n",
       "      <th>5</th>\n",
       "      <td>6</td>\n",
       "      <td>6</td>\n",
       "      <td>6</td>\n",
       "      <td>11</td>\n",
       "    </tr>\n",
       "    <tr>\n",
       "      <th>6</th>\n",
       "      <td>2</td>\n",
       "      <td>8</td>\n",
       "      <td>2</td>\n",
       "      <td>7</td>\n",
       "    </tr>\n",
       "    <tr>\n",
       "      <th>7</th>\n",
       "      <td>5</td>\n",
       "      <td>6</td>\n",
       "      <td>5</td>\n",
       "      <td>9</td>\n",
       "    </tr>\n",
       "    <tr>\n",
       "      <th>8</th>\n",
       "      <td>1</td>\n",
       "      <td>9</td>\n",
       "      <td>9</td>\n",
       "      <td>7</td>\n",
       "    </tr>\n",
       "  </tbody>\n",
       "</table>\n",
       "</div>"
      ],
      "text/plain": [
       "   noJ_noPB  noJ_yesPB  yesJ_noPB  yesJ_yesPB\n",
       "0         1          4          6           8\n",
       "1         7         12          6           5\n",
       "2         9          5          2           5\n",
       "3         4          8          8           6\n",
       "4         5          6          6           9\n",
       "5         6          6          6          11\n",
       "6         2          8          2           7\n",
       "7         5          6          5           9\n",
       "8         1          9          9           7"
      ]
     },
     "execution_count": 4,
     "metadata": {},
     "output_type": "execute_result"
    }
   ],
   "source": [
    "d = {'noJ_noPB': noJ_noPB,\n",
    "     'noJ_yesPB': noJ_yesPB,\n",
    "     'yesJ_noPB': yesJ_noPB,\n",
    "     'yesJ_yesPB': yesJ_yesPB}\n",
    "data = pd.DataFrame(data = d)\n",
    "data"
   ]
  },
  {
   "cell_type": "code",
   "execution_count": 5,
   "metadata": {},
   "outputs": [
    {
     "data": {
      "text/plain": [
       "noJ_noPB      4.444444\n",
       "noJ_yesPB     7.111111\n",
       "yesJ_noPB     5.555556\n",
       "yesJ_yesPB    7.444444\n",
       "dtype: float64"
      ]
     },
     "execution_count": 5,
     "metadata": {},
     "output_type": "execute_result"
    }
   ],
   "source": [
    "data_means = np.mean(data)\n",
    "data_means"
   ]
  },
  {
   "cell_type": "code",
   "execution_count": 6,
   "metadata": {},
   "outputs": [
    {
     "data": {
      "text/plain": [
       "noJ_noPB      60.222222\n",
       "noJ_yesPB     46.888889\n",
       "yesJ_noPB     44.222222\n",
       "yesJ_yesPB    32.222222\n",
       "dtype: float64"
      ]
     },
     "execution_count": 6,
     "metadata": {},
     "output_type": "execute_result"
    }
   ],
   "source": [
    "SS_wc = np.sum((data - np.mean(data))**2)\n",
    "SS_wc"
   ]
  },
  {
   "cell_type": "code",
   "execution_count": 7,
   "metadata": {},
   "outputs": [],
   "source": [
    "grand_mean = np.mean(np.mean(data))\n",
    "n_tot = data.size"
   ]
  },
  {
   "cell_type": "code",
   "execution_count": 8,
   "metadata": {},
   "outputs": [
    {
     "data": {
      "text/plain": [
       "6.138888888888889"
      ]
     },
     "execution_count": 8,
     "metadata": {},
     "output_type": "execute_result"
    }
   ],
   "source": [
    "grand_mean"
   ]
  },
  {
   "cell_type": "code",
   "execution_count": 9,
   "metadata": {},
   "outputs": [
    {
     "data": {
      "text/plain": [
       "236.3055555555556"
      ]
     },
     "execution_count": 9,
     "metadata": {},
     "output_type": "execute_result"
    }
   ],
   "source": [
    "SS_total = np.sum(np.sum(((data - grand_mean)**2)))\n",
    "SS_total"
   ]
  },
  {
   "cell_type": "code",
   "execution_count": 10,
   "metadata": {},
   "outputs": [
    {
     "data": {
      "text/plain": [
       "noJ_noPB      9\n",
       "noJ_yesPB     9\n",
       "yesJ_noPB     9\n",
       "yesJ_yesPB    9\n",
       "dtype: int64"
      ]
     },
     "execution_count": 10,
     "metadata": {},
     "output_type": "execute_result"
    }
   ],
   "source": [
    "n_cat = data.count()\n",
    "n_cat"
   ]
  },
  {
   "cell_type": "code",
   "execution_count": 11,
   "metadata": {},
   "outputs": [
    {
     "data": {
      "text/plain": [
       "noJ_noPB      2.743680\n",
       "noJ_yesPB     2.420973\n",
       "yesJ_noPB     2.351123\n",
       "yesJ_yesPB    2.006932\n",
       "dtype: float64"
      ]
     },
     "execution_count": 11,
     "metadata": {},
     "output_type": "execute_result"
    }
   ],
   "source": [
    "s_x = np.sqrt(SS_wc/(n_cat-1))\n",
    "s_x"
   ]
  },
  {
   "cell_type": "code",
   "execution_count": 12,
   "metadata": {},
   "outputs": [
    {
     "data": {
      "text/plain": [
       "noJ_noPB      0.914560\n",
       "noJ_yesPB     0.806991\n",
       "yesJ_noPB     0.783708\n",
       "yesJ_yesPB    0.668977\n",
       "dtype: float64"
      ]
     },
     "execution_count": 12,
     "metadata": {},
     "output_type": "execute_result"
    }
   ],
   "source": [
    "s_xBar = s_x/np.sqrt(n_cat)\n",
    "s_xBar"
   ]
  },
  {
   "cell_type": "code",
   "execution_count": 13,
   "metadata": {},
   "outputs": [
    {
     "data": {
      "text/plain": [
       "183.5555555555556"
      ]
     },
     "execution_count": 13,
     "metadata": {},
     "output_type": "execute_result"
    }
   ],
   "source": [
    "SS_wc_tot = np.sum(SS_wc)\n",
    "SS_wc_tot"
   ]
  },
  {
   "cell_type": "code",
   "execution_count": 14,
   "metadata": {},
   "outputs": [
    {
     "data": {
      "text/plain": [
       "5.7361111111111125"
      ]
     },
     "execution_count": 14,
     "metadata": {},
     "output_type": "execute_result"
    }
   ],
   "source": [
    "df_wc_tot = data.size - len(data.columns)\n",
    "MS_wc = SS_wc_tot/df_wc_tot\n",
    "MS_wc"
   ]
  },
  {
   "cell_type": "code",
   "execution_count": 15,
   "metadata": {},
   "outputs": [
    {
     "data": {
      "text/html": [
       "<div>\n",
       "<style scoped>\n",
       "    .dataframe tbody tr th:only-of-type {\n",
       "        vertical-align: middle;\n",
       "    }\n",
       "\n",
       "    .dataframe tbody tr th {\n",
       "        vertical-align: top;\n",
       "    }\n",
       "\n",
       "    .dataframe thead th {\n",
       "        text-align: right;\n",
       "    }\n",
       "</style>\n",
       "<table border=\"1\" class=\"dataframe\">\n",
       "  <thead>\n",
       "    <tr style=\"text-align: right;\">\n",
       "      <th></th>\n",
       "      <th>noJ_noPB</th>\n",
       "      <th>noJ_yesPB</th>\n",
       "      <th>yesJ_noPB</th>\n",
       "      <th>yesJ_yesPB</th>\n",
       "    </tr>\n",
       "  </thead>\n",
       "  <tbody>\n",
       "    <tr>\n",
       "      <th>0</th>\n",
       "      <td>1</td>\n",
       "      <td>4</td>\n",
       "      <td>6</td>\n",
       "      <td>8</td>\n",
       "    </tr>\n",
       "    <tr>\n",
       "      <th>1</th>\n",
       "      <td>7</td>\n",
       "      <td>12</td>\n",
       "      <td>6</td>\n",
       "      <td>5</td>\n",
       "    </tr>\n",
       "    <tr>\n",
       "      <th>2</th>\n",
       "      <td>9</td>\n",
       "      <td>5</td>\n",
       "      <td>2</td>\n",
       "      <td>5</td>\n",
       "    </tr>\n",
       "    <tr>\n",
       "      <th>3</th>\n",
       "      <td>4</td>\n",
       "      <td>8</td>\n",
       "      <td>8</td>\n",
       "      <td>6</td>\n",
       "    </tr>\n",
       "    <tr>\n",
       "      <th>4</th>\n",
       "      <td>5</td>\n",
       "      <td>6</td>\n",
       "      <td>6</td>\n",
       "      <td>9</td>\n",
       "    </tr>\n",
       "    <tr>\n",
       "      <th>5</th>\n",
       "      <td>6</td>\n",
       "      <td>6</td>\n",
       "      <td>6</td>\n",
       "      <td>11</td>\n",
       "    </tr>\n",
       "    <tr>\n",
       "      <th>6</th>\n",
       "      <td>2</td>\n",
       "      <td>8</td>\n",
       "      <td>2</td>\n",
       "      <td>7</td>\n",
       "    </tr>\n",
       "    <tr>\n",
       "      <th>7</th>\n",
       "      <td>5</td>\n",
       "      <td>6</td>\n",
       "      <td>5</td>\n",
       "      <td>9</td>\n",
       "    </tr>\n",
       "    <tr>\n",
       "      <th>8</th>\n",
       "      <td>1</td>\n",
       "      <td>9</td>\n",
       "      <td>9</td>\n",
       "      <td>7</td>\n",
       "    </tr>\n",
       "  </tbody>\n",
       "</table>\n",
       "</div>"
      ],
      "text/plain": [
       "   noJ_noPB  noJ_yesPB  yesJ_noPB  yesJ_yesPB\n",
       "0         1          4          6           8\n",
       "1         7         12          6           5\n",
       "2         9          5          2           5\n",
       "3         4          8          8           6\n",
       "4         5          6          6           9\n",
       "5         6          6          6          11\n",
       "6         2          8          2           7\n",
       "7         5          6          5           9\n",
       "8         1          9          9           7"
      ]
     },
     "execution_count": 15,
     "metadata": {},
     "output_type": "execute_result"
    }
   ],
   "source": [
    "data"
   ]
  },
  {
   "cell_type": "code",
   "execution_count": 16,
   "metadata": {},
   "outputs": [
    {
     "name": "stdout",
     "output_type": "stream",
     "text": [
      "5.0\n",
      "7.277777777777778\n"
     ]
    }
   ],
   "source": [
    "#np.array(data.noJ_noPB)\n",
    "noPB_mean = np.mean(\n",
    "    np.concatenate((np.array(data.noJ_noPB), np.array(data.yesJ_noPB))))\n",
    "print(noPB_mean)\n",
    "\n",
    "yesPB_mean = np.mean(\n",
    "    np.concatenate((np.array(data.noJ_yesPB), np.array(data.yesJ_yesPB))))\n",
    "print(yesPB_mean)"
   ]
  },
  {
   "cell_type": "code",
   "execution_count": 17,
   "metadata": {},
   "outputs": [
    {
     "data": {
      "text/plain": [
       "46.694444444444436"
      ]
     },
     "execution_count": 17,
     "metadata": {},
     "output_type": "execute_result"
    }
   ],
   "source": [
    "SS_PB = (n_cat.noJ_noPB+n_cat.yesJ_noPB)*(noPB_mean-grand_mean)**2 + (\n",
    "    n_cat.noJ_yesPB+n_cat.yesJ_yesPB)*(yesPB_mean-grand_mean)**2\n",
    "SS_PB"
   ]
  },
  {
   "cell_type": "code",
   "execution_count": 18,
   "metadata": {},
   "outputs": [
    {
     "data": {
      "text/plain": [
       "46.694444444444436"
      ]
     },
     "execution_count": 18,
     "metadata": {},
     "output_type": "execute_result"
    }
   ],
   "source": [
    "df_PB = 2-1 # deg of freedom is num groups - 1. We have two rows.\n",
    "MS_PB = SS_PB / df_PB\n",
    "MS_PB"
   ]
  },
  {
   "cell_type": "code",
   "execution_count": 19,
   "metadata": {},
   "outputs": [
    {
     "data": {
      "text/plain": [
       "8.140435835351086"
      ]
     },
     "execution_count": 19,
     "metadata": {},
     "output_type": "execute_result"
    }
   ],
   "source": [
    "F_stat_PB = MS_PB/MS_wc\n",
    "F_stat_PB"
   ]
  },
  {
   "cell_type": "code",
   "execution_count": 20,
   "metadata": {},
   "outputs": [],
   "source": [
    "import scipy.stats"
   ]
  },
  {
   "cell_type": "code",
   "execution_count": 21,
   "metadata": {},
   "outputs": [
    {
     "data": {
      "text/plain": [
       "4.149097445699548"
      ]
     },
     "execution_count": 21,
     "metadata": {},
     "output_type": "execute_result"
    }
   ],
   "source": [
    "F_sig_PB = scipy.stats.f.ppf(q=.95, dfn=df_PB, dfd=df_wc_tot)\n",
    "F_sig_PB"
   ]
  },
  {
   "cell_type": "code",
   "execution_count": 22,
   "metadata": {},
   "outputs": [
    {
     "data": {
      "text/plain": [
       "0.007527990777621563"
      ]
     },
     "execution_count": 22,
     "metadata": {},
     "output_type": "execute_result"
    }
   ],
   "source": [
    "p_PB = 1-scipy.stats.f.cdf(F_stat_PB, df_PB, df_wc_tot)\n",
    "p_PB"
   ]
  },
  {
   "cell_type": "code",
   "execution_count": 31,
   "metadata": {},
   "outputs": [
    {
     "name": "stdout",
     "output_type": "stream",
     "text": [
      "There is a significant main effect of peanut butter on taste ratings, F(1,32) = 4.15, p = 0.0075\n"
     ]
    }
   ],
   "source": [
    "print('There is a significant main effect of peanut butter on taste ratings, F(1,32) = %.2f, p = %.4f' % (F_sig_PB, p_PB))"
   ]
  },
  {
   "cell_type": "code",
   "execution_count": 25,
   "metadata": {},
   "outputs": [
    {
     "name": "stdout",
     "output_type": "stream",
     "text": [
      "5.777777777777778\n",
      "6.5\n"
     ]
    }
   ],
   "source": [
    "# NOW DO JELLY MAIN EFFECT\n",
    "\n",
    "yesJ_mean = np.mean(\n",
    "    np.concatenate((np.array(data.noJ_yesPB), np.array(data.noJ_noPB))))\n",
    "print(yesJ_mean)\n",
    "\n",
    "noJ_mean = np.mean(\n",
    "    np.concatenate((np.array(data.yesJ_yesPB), np.array(data.yesJ_noPB))))\n",
    "print(noJ_mean)"
   ]
  },
  {
   "cell_type": "code",
   "execution_count": 26,
   "metadata": {},
   "outputs": [
    {
     "data": {
      "text/plain": [
       "4.6944444444444455"
      ]
     },
     "execution_count": 26,
     "metadata": {},
     "output_type": "execute_result"
    }
   ],
   "source": [
    "SS_J = (n_cat.yesJ_yesPB+n_cat.yesJ_noPB)*(yesJ_mean-grand_mean)**2 + (\n",
    "    n_cat.noJ_yesPB+n_cat.noJ_noPB)*(noJ_mean-grand_mean)**2\n",
    "SS_J"
   ]
  },
  {
   "cell_type": "code",
   "execution_count": 27,
   "metadata": {},
   "outputs": [
    {
     "data": {
      "text/plain": [
       "4.6944444444444455"
      ]
     },
     "execution_count": 27,
     "metadata": {},
     "output_type": "execute_result"
    }
   ],
   "source": [
    "df_J = 2-1 # deg of freedom is num groups - 1. We have two columns.\n",
    "MS_J = SS_J / df_J\n",
    "MS_J"
   ]
  },
  {
   "cell_type": "code",
   "execution_count": 28,
   "metadata": {},
   "outputs": [
    {
     "data": {
      "text/plain": [
       "0.8184019370460048"
      ]
     },
     "execution_count": 28,
     "metadata": {},
     "output_type": "execute_result"
    }
   ],
   "source": [
    "F_stat_J = MS_J/MS_wc\n",
    "F_stat_J"
   ]
  },
  {
   "cell_type": "code",
   "execution_count": 29,
   "metadata": {},
   "outputs": [
    {
     "data": {
      "text/plain": [
       "4.149097445699548"
      ]
     },
     "execution_count": 29,
     "metadata": {},
     "output_type": "execute_result"
    }
   ],
   "source": [
    "F_sig_J = scipy.stats.f.ppf(q=.95, dfn=df_J, dfd=df_wc_tot)\n",
    "F_sig_J"
   ]
  },
  {
   "cell_type": "code",
   "execution_count": 30,
   "metadata": {},
   "outputs": [
    {
     "data": {
      "text/plain": [
       "0.37240866192599487"
      ]
     },
     "execution_count": 30,
     "metadata": {},
     "output_type": "execute_result"
    }
   ],
   "source": [
    "p_J = 1-scipy.stats.f.cdf(F_stat_J, df_J, df_wc_tot)\n",
    "p_J"
   ]
  },
  {
   "cell_type": "code",
   "execution_count": 32,
   "metadata": {},
   "outputs": [
    {
     "name": "stdout",
     "output_type": "stream",
     "text": [
      "There is not a significant main effect of Jelly butter on taste ratings, F(1,32) = 4.15, p = 0.3724\n"
     ]
    }
   ],
   "source": [
    "print('There is not a significant main effect of Jelly butter on taste ratings, F(1,32) = %.2f, p = %.4f' % (F_sig_J, p_J))"
   ]
  },
  {
   "cell_type": "code",
   "execution_count": 36,
   "metadata": {},
   "outputs": [
    {
     "data": {
      "text/plain": [
       "1.3611111111111187"
      ]
     },
     "execution_count": 36,
     "metadata": {},
     "output_type": "execute_result"
    }
   ],
   "source": [
    "SS_PBxJ = SS_total-SS_wc_tot-SS_PB-SS_J\n",
    "SS_PBxJ"
   ]
  },
  {
   "cell_type": "code",
   "execution_count": 38,
   "metadata": {},
   "outputs": [
    {
     "data": {
      "text/plain": [
       "1.3611111111111187"
      ]
     },
     "execution_count": 38,
     "metadata": {},
     "output_type": "execute_result"
    }
   ],
   "source": [
    "df_PBxJ = (2-1)*(2-1) # num rows - 1 times num cols - 1\n",
    "MS_PBxJ = SS_PBxJ/df_PBxJ\n",
    "MS_PBxJ"
   ]
  },
  {
   "cell_type": "code",
   "execution_count": 39,
   "metadata": {},
   "outputs": [
    {
     "data": {
      "text/plain": [
       "0.2372881355932216"
      ]
     },
     "execution_count": 39,
     "metadata": {},
     "output_type": "execute_result"
    }
   ],
   "source": [
    "F_stat_PBxJ = MS_PBxJ/MS_wc\n",
    "F_stat_PBxJ"
   ]
  },
  {
   "cell_type": "code",
   "execution_count": 44,
   "metadata": {},
   "outputs": [
    {
     "data": {
      "text/plain": [
       "4.149097445699548"
      ]
     },
     "execution_count": 44,
     "metadata": {},
     "output_type": "execute_result"
    }
   ],
   "source": [
    "F_sig_PBxJ = scipy.stats.f.ppf(q=.95, dfn=df_PBxJ, dfd=df_wc_tot)\n",
    "F_sig_PBxJ"
   ]
  },
  {
   "cell_type": "code",
   "execution_count": 45,
   "metadata": {},
   "outputs": [
    {
     "data": {
      "text/plain": [
       "0.6294919713901619"
      ]
     },
     "execution_count": 45,
     "metadata": {},
     "output_type": "execute_result"
    }
   ],
   "source": [
    "p_PBxJ = 1-scipy.stats.f.cdf(F_stat_PBxJ, df_PBxJ, df_wc_tot)\n",
    "p_PBxJ"
   ]
  },
  {
   "cell_type": "code",
   "execution_count": null,
   "metadata": {},
   "outputs": [],
   "source": []
  }
 ],
 "metadata": {
  "kernelspec": {
   "display_name": "Python 3 (ipykernel)",
   "language": "python",
   "name": "python3"
  },
  "language_info": {
   "codemirror_mode": {
    "name": "ipython",
    "version": 3
   },
   "file_extension": ".py",
   "mimetype": "text/x-python",
   "name": "python",
   "nbconvert_exporter": "python",
   "pygments_lexer": "ipython3",
   "version": "3.8.15"
  }
 },
 "nbformat": 4,
 "nbformat_minor": 4
}
